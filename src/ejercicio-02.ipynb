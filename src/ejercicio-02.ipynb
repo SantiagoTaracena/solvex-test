{
 "cells": [
  {
   "cell_type": "markdown",
   "metadata": {},
   "source": [
    "# Data Engineering Test\n",
    "# Solvex - 2024"
   ]
  },
  {
   "cell_type": "markdown",
   "metadata": {},
   "source": [
    "## Resuelto por Santiago Taracena Puga"
   ]
  },
  {
   "cell_type": "markdown",
   "metadata": {},
   "source": [
    "### Ejercicio 2: Procesamiento de datos con Spark y conjunto de datos de vuelos\n",
    "\n",
    "Utiliza Apache Spark y un conjunto de datos público de vuelos, como el conjunto de datos de vuelos de 2015 proporcionado por la Oficina de Estadísticas de Transporte de EE. UU., para realizar las siguientes tareas:\n",
    "\n",
    "- Descarga los datos de vuelos en formato CSV desde la URL pública.\n",
    "- Carga los datos en un DataFrame de Spark.\n",
    "- Calcula la cantidad promedio de retrasos en la llegada de vuelos en un aeropuerto específico.\n",
    "- Encuentra las 10 rutas de vuelo más populares (pares de aeropuertos) en términos de la cantidad de vuelos.\n",
    "\n",
    "Puedes encontrar conjuntos de datos de vuelos en sitios web de datos abiertos, como el Portal de Datos Abiertos del Gobierno de EE. UU.: https://www.transtats.bts.gov/DL_SelectFields.asp"
   ]
  },
  {
   "cell_type": "markdown",
   "metadata": {},
   "source": [
    "### Solución"
   ]
  },
  {
   "cell_type": "markdown",
   "metadata": {},
   "source": [
    "Al igual que para la realización del primer ejercicio, el primer paso del presente ejercicio consiste en descargar un dataset que contiene información sobre vuelos en los Estados Unidos durante el año 2015. Este dataset contiene múltiples columnas con información interesante sobre los vuelos, como tiempos de salida, atrasos, cancelaciones de vuelos y mucho más.\n",
    "\n",
    "El archivo también fue descargado en una carpeta `./data/`, por lo que con el mismo disponible para la resolución del ejercicio podemos proceder a cumplir con el segundo inciso del ejercicio, que consiste en cargar los datos a Spark. Lo primero que debemos hacer es iniciar una `SparkSession` para trabajar con Spark."
   ]
  },
  {
   "cell_type": "code",
   "execution_count": 1,
   "metadata": {},
   "outputs": [],
   "source": [
    "# Instrucción para importar SparkSession e iniciar una sesión\n",
    "from pyspark.sql import SparkSession"
   ]
  },
  {
   "cell_type": "markdown",
   "metadata": {},
   "source": [
    "Con `SparkSession` disponible, podemos proceder a instanciar una sesión de Spark para trabajar. Esto lo podemos hacer llamando a la propiedad estática `builder` para construir una sesión, nombrar la sesión con `appName`, y finalmente crear la sesión si no ha sido creada aún con la función `getOrCreate`."
   ]
  },
  {
   "cell_type": "code",
   "execution_count": 2,
   "metadata": {},
   "outputs": [
    {
     "data": {
      "text/html": [
       "\n",
       "            <div>\n",
       "                <p><b>SparkSession - in-memory</b></p>\n",
       "                \n",
       "        <div>\n",
       "            <p><b>SparkContext</b></p>\n",
       "\n",
       "            <p><a href=\"http://TUF-Santiago:4040\">Spark UI</a></p>\n",
       "\n",
       "            <dl>\n",
       "              <dt>Version</dt>\n",
       "                <dd><code>v3.5.1</code></dd>\n",
       "              <dt>Master</dt>\n",
       "                <dd><code>local[*]</code></dd>\n",
       "              <dt>AppName</dt>\n",
       "                <dd><code>Flights</code></dd>\n",
       "            </dl>\n",
       "        </div>\n",
       "        \n",
       "            </div>\n",
       "        "
      ],
      "text/plain": [
       "<pyspark.sql.session.SparkSession at 0x183c1397e10>"
      ]
     },
     "execution_count": 2,
     "metadata": {},
     "output_type": "execute_result"
    }
   ],
   "source": [
    "# Creación de una sesión de Spark para trabajar\n",
    "spark = SparkSession.builder.appName(\"Flights\").getOrCreate()\n",
    "spark"
   ]
  },
  {
   "cell_type": "markdown",
   "metadata": {},
   "source": [
    "Con Spark finalmente disponible para trabajar, podemos hacer la carga del dataset a un DataFrame de Spark utilizando la función `load` para cargar un archivo de formato .csv y obtener como resultado un DataFrame utilizable para la resolución de los ejercicios planteados."
   ]
  },
  {
   "cell_type": "code",
   "execution_count": 3,
   "metadata": {},
   "outputs": [
    {
     "data": {
      "text/plain": [
       "DataFrame[YEAR: string, MONTH: string, DAY: string, DAY_OF_WEEK: string, AIRLINE: string, FLIGHT_NUMBER: string, TAIL_NUMBER: string, ORIGIN_AIRPORT: string, DESTINATION_AIRPORT: string, SCHEDULED_DEPARTURE: string, DEPARTURE_TIME: string, DEPARTURE_DELAY: string, TAXI_OUT: string, WHEELS_OFF: string, SCHEDULED_TIME: string, ELAPSED_TIME: string, AIR_TIME: string, DISTANCE: string, WHEELS_ON: string, TAXI_IN: string, SCHEDULED_ARRIVAL: string, ARRIVAL_TIME: string, ARRIVAL_DELAY: string, DIVERTED: string, CANCELLED: string, CANCELLATION_REASON: string, AIR_SYSTEM_DELAY: string, SECURITY_DELAY: string, AIRLINE_DELAY: string, LATE_AIRCRAFT_DELAY: string, WEATHER_DELAY: string]"
      ]
     },
     "execution_count": 3,
     "metadata": {},
     "output_type": "execute_result"
    }
   ],
   "source": [
    "# Lectura del dataset con los vuelos\n",
    "data = spark.read.format(\"csv\").option(\"header\", \"true\").load(\"./data/flights.csv\")\n",
    "data"
   ]
  },
  {
   "cell_type": "markdown",
   "metadata": {},
   "source": [
    "Podemos observar que se ha retornado un DataFrame con las columnas que se encuentran entre los corchetes del mismo. Para ver con más detalle el esquema del dataset con el que contamos actualmente, podemos utilizar la función `printSchema`."
   ]
  },
  {
   "cell_type": "code",
   "execution_count": 4,
   "metadata": {},
   "outputs": [
    {
     "name": "stdout",
     "output_type": "stream",
     "text": [
      "root\n",
      " |-- YEAR: string (nullable = true)\n",
      " |-- MONTH: string (nullable = true)\n",
      " |-- DAY: string (nullable = true)\n",
      " |-- DAY_OF_WEEK: string (nullable = true)\n",
      " |-- AIRLINE: string (nullable = true)\n",
      " |-- FLIGHT_NUMBER: string (nullable = true)\n",
      " |-- TAIL_NUMBER: string (nullable = true)\n",
      " |-- ORIGIN_AIRPORT: string (nullable = true)\n",
      " |-- DESTINATION_AIRPORT: string (nullable = true)\n",
      " |-- SCHEDULED_DEPARTURE: string (nullable = true)\n",
      " |-- DEPARTURE_TIME: string (nullable = true)\n",
      " |-- DEPARTURE_DELAY: string (nullable = true)\n",
      " |-- TAXI_OUT: string (nullable = true)\n",
      " |-- WHEELS_OFF: string (nullable = true)\n",
      " |-- SCHEDULED_TIME: string (nullable = true)\n",
      " |-- ELAPSED_TIME: string (nullable = true)\n",
      " |-- AIR_TIME: string (nullable = true)\n",
      " |-- DISTANCE: string (nullable = true)\n",
      " |-- WHEELS_ON: string (nullable = true)\n",
      " |-- TAXI_IN: string (nullable = true)\n",
      " |-- SCHEDULED_ARRIVAL: string (nullable = true)\n",
      " |-- ARRIVAL_TIME: string (nullable = true)\n",
      " |-- ARRIVAL_DELAY: string (nullable = true)\n",
      " |-- DIVERTED: string (nullable = true)\n",
      " |-- CANCELLED: string (nullable = true)\n",
      " |-- CANCELLATION_REASON: string (nullable = true)\n",
      " |-- AIR_SYSTEM_DELAY: string (nullable = true)\n",
      " |-- SECURITY_DELAY: string (nullable = true)\n",
      " |-- AIRLINE_DELAY: string (nullable = true)\n",
      " |-- LATE_AIRCRAFT_DELAY: string (nullable = true)\n",
      " |-- WEATHER_DELAY: string (nullable = true)\n",
      "\n"
     ]
    }
   ],
   "source": [
    "# Esquema de los datos\n",
    "data.printSchema()"
   ]
  },
  {
   "cell_type": "markdown",
   "metadata": {},
   "source": [
    "Finalmente, para poder observar los datos con los que contamos de una forma similar a la que lo haríamos con una librería como Pandas, podemos utilizar la función `show` para mostrar una sección del dataset con el que contamos actualmente."
   ]
  },
  {
   "cell_type": "code",
   "execution_count": 5,
   "metadata": {},
   "outputs": [
    {
     "name": "stdout",
     "output_type": "stream",
     "text": [
      "+----+-----+---+-----------+-------+-------------+-----------+--------------+-------------------+-------------------+--------------+---------------+--------+----------+--------------+------------+--------+--------+---------+-------+-----------------+------------+-------------+--------+---------+-------------------+----------------+--------------+-------------+-------------------+-------------+\n",
      "|YEAR|MONTH|DAY|DAY_OF_WEEK|AIRLINE|FLIGHT_NUMBER|TAIL_NUMBER|ORIGIN_AIRPORT|DESTINATION_AIRPORT|SCHEDULED_DEPARTURE|DEPARTURE_TIME|DEPARTURE_DELAY|TAXI_OUT|WHEELS_OFF|SCHEDULED_TIME|ELAPSED_TIME|AIR_TIME|DISTANCE|WHEELS_ON|TAXI_IN|SCHEDULED_ARRIVAL|ARRIVAL_TIME|ARRIVAL_DELAY|DIVERTED|CANCELLED|CANCELLATION_REASON|AIR_SYSTEM_DELAY|SECURITY_DELAY|AIRLINE_DELAY|LATE_AIRCRAFT_DELAY|WEATHER_DELAY|\n",
      "+----+-----+---+-----------+-------+-------------+-----------+--------------+-------------------+-------------------+--------------+---------------+--------+----------+--------------+------------+--------+--------+---------+-------+-----------------+------------+-------------+--------+---------+-------------------+----------------+--------------+-------------+-------------------+-------------+\n",
      "|2015|    1|  1|          4|     AS|           98|     N407AS|           ANC|                SEA|               0005|          2354|            -11|      21|      0015|           205|         194|     169|    1448|     0404|      4|             0430|        0408|          -22|       0|        0|               NULL|            NULL|          NULL|         NULL|               NULL|         NULL|\n",
      "|2015|    1|  1|          4|     AA|         2336|     N3KUAA|           LAX|                PBI|               0010|          0002|             -8|      12|      0014|           280|         279|     263|    2330|     0737|      4|             0750|        0741|           -9|       0|        0|               NULL|            NULL|          NULL|         NULL|               NULL|         NULL|\n",
      "|2015|    1|  1|          4|     US|          840|     N171US|           SFO|                CLT|               0020|          0018|             -2|      16|      0034|           286|         293|     266|    2296|     0800|     11|             0806|        0811|            5|       0|        0|               NULL|            NULL|          NULL|         NULL|               NULL|         NULL|\n",
      "|2015|    1|  1|          4|     AA|          258|     N3HYAA|           LAX|                MIA|               0020|          0015|             -5|      15|      0030|           285|         281|     258|    2342|     0748|      8|             0805|        0756|           -9|       0|        0|               NULL|            NULL|          NULL|         NULL|               NULL|         NULL|\n",
      "|2015|    1|  1|          4|     AS|          135|     N527AS|           SEA|                ANC|               0025|          0024|             -1|      11|      0035|           235|         215|     199|    1448|     0254|      5|             0320|        0259|          -21|       0|        0|               NULL|            NULL|          NULL|         NULL|               NULL|         NULL|\n",
      "|2015|    1|  1|          4|     DL|          806|     N3730B|           SFO|                MSP|               0025|          0020|             -5|      18|      0038|           217|         230|     206|    1589|     0604|      6|             0602|        0610|            8|       0|        0|               NULL|            NULL|          NULL|         NULL|               NULL|         NULL|\n",
      "|2015|    1|  1|          4|     NK|          612|     N635NK|           LAS|                MSP|               0025|          0019|             -6|      11|      0030|           181|         170|     154|    1299|     0504|      5|             0526|        0509|          -17|       0|        0|               NULL|            NULL|          NULL|         NULL|               NULL|         NULL|\n",
      "|2015|    1|  1|          4|     US|         2013|     N584UW|           LAX|                CLT|               0030|          0044|             14|      13|      0057|           273|         249|     228|    2125|     0745|      8|             0803|        0753|          -10|       0|        0|               NULL|            NULL|          NULL|         NULL|               NULL|         NULL|\n",
      "|2015|    1|  1|          4|     AA|         1112|     N3LAAA|           SFO|                DFW|               0030|          0019|            -11|      17|      0036|           195|         193|     173|    1464|     0529|      3|             0545|        0532|          -13|       0|        0|               NULL|            NULL|          NULL|         NULL|               NULL|         NULL|\n",
      "|2015|    1|  1|          4|     DL|         1173|     N826DN|           LAS|                ATL|               0030|          0033|              3|      12|      0045|           221|         203|     186|    1747|     0651|      5|             0711|        0656|          -15|       0|        0|               NULL|            NULL|          NULL|         NULL|               NULL|         NULL|\n",
      "+----+-----+---+-----------+-------+-------------+-----------+--------------+-------------------+-------------------+--------------+---------------+--------+----------+--------------+------------+--------+--------+---------+-------+-----------------+------------+-------------+--------+---------+-------------------+----------------+--------------+-------------+-------------------+-------------+\n",
      "only showing top 10 rows\n",
      "\n"
     ]
    }
   ],
   "source": [
    "# Diez filas del dataset\n",
    "data.show(10)"
   ]
  },
  {
   "cell_type": "markdown",
   "metadata": {},
   "source": [
    "El primer ejercicio a resolver propiamente consiste en obtener la cantidad promedio de retrasos en la llegada de vuelos en un aeropuerto específico. Lo primero que debemos realizar es definit un aeropuerto a utilizar como foco principal del ejercicio. Por esta razón, se definió una constante `AIRPORT` con el aeropuerto a utilizar."
   ]
  },
  {
   "cell_type": "code",
   "execution_count": 6,
   "metadata": {},
   "outputs": [
    {
     "data": {
      "text/plain": [
       "'JFK'"
      ]
     },
     "execution_count": 6,
     "metadata": {},
     "output_type": "execute_result"
    }
   ],
   "source": [
    "# Aeropuerto a utilizar para resolver el ejercicio\n",
    "AIRPORT = \"JFK\"\n",
    "AIRPORT"
   ]
  },
  {
   "cell_type": "markdown",
   "metadata": {},
   "source": [
    "Con nuestro aeropuerto definido, podemos observar cómo es necesario importar algunas funciones de Spark con el objetivo de encontrar, por ejemplo, un promedio. Estas funciones las podemos importar del paquete `pyspark.sql.functions`."
   ]
  },
  {
   "cell_type": "code",
   "execution_count": 7,
   "metadata": {},
   "outputs": [],
   "source": [
    "from pyspark.sql.functions import col, avg"
   ]
  },
  {
   "cell_type": "markdown",
   "metadata": {},
   "source": [
    "Con estas funciones necesarias importadas, podemos comenzar filtrando los datos que tenemos actualmente. Necesitamos únicamente las filas que correspondan al aeropuerto definido anteriormente, y también debemos asegurarnos de no incluir vuelos que hayan sido cancelados."
   ]
  },
  {
   "cell_type": "code",
   "execution_count": 8,
   "metadata": {},
   "outputs": [
    {
     "name": "stdout",
     "output_type": "stream",
     "text": [
      "+----+-----+---+-----------+-------+-------------+-----------+--------------+-------------------+-------------------+--------------+---------------+--------+----------+--------------+------------+--------+--------+---------+-------+-----------------+------------+-------------+--------+---------+-------------------+----------------+--------------+-------------+-------------------+-------------+\n",
      "|YEAR|MONTH|DAY|DAY_OF_WEEK|AIRLINE|FLIGHT_NUMBER|TAIL_NUMBER|ORIGIN_AIRPORT|DESTINATION_AIRPORT|SCHEDULED_DEPARTURE|DEPARTURE_TIME|DEPARTURE_DELAY|TAXI_OUT|WHEELS_OFF|SCHEDULED_TIME|ELAPSED_TIME|AIR_TIME|DISTANCE|WHEELS_ON|TAXI_IN|SCHEDULED_ARRIVAL|ARRIVAL_TIME|ARRIVAL_DELAY|DIVERTED|CANCELLED|CANCELLATION_REASON|AIR_SYSTEM_DELAY|SECURITY_DELAY|AIRLINE_DELAY|LATE_AIRCRAFT_DELAY|WEATHER_DELAY|\n",
      "+----+-----+---+-----------+-------+-------------+-----------+--------------+-------------------+-------------------+--------------+---------------+--------+----------+--------------+------------+--------+--------+---------+-------+-----------------+------------+-------------+--------+---------+-------------------+----------------+--------------+-------------+-------------------+-------------+\n",
      "|2015|    1|  1|          4|     B6|          304|     N607JB|           SJU|                JFK|               0155|          0153|             -2|      12|      0205|           235|         248|     231|    1598|     0456|      5|             0450|        0501|           11|       0|        0|               NULL|            NULL|          NULL|         NULL|               NULL|         NULL|\n",
      "|2015|    1|  1|          4|     B6|         2001|     N358JB|           BUF|                JFK|               0535|          0530|             -5|      17|      0547|            88|          78|      56|     301|     0643|      5|             0703|        0648|          -15|       0|        0|               NULL|            NULL|          NULL|         NULL|               NULL|         NULL|\n",
      "|2015|    1|  1|          4|     B6|         2807|     N190JB|           PWM|                JFK|               0535|          0528|             -7|      13|      0541|            85|          67|      50|     273|     0631|      4|             0700|        0635|          -25|       0|        0|               NULL|            NULL|          NULL|         NULL|               NULL|         NULL|\n",
      "|2015|    1|  1|          4|     B6|          917|     N606JB|           BOS|                JFK|               0545|          0543|             -2|      12|      0555|            77|          66|      44|     187|     0639|     10|             0702|        0649|          -13|       0|        0|               NULL|            NULL|          NULL|         NULL|               NULL|         NULL|\n",
      "|2015|    1|  1|          4|     B6|          115|     N284JB|           SYR|                JFK|               0555|          0550|             -5|      27|      0617|            83|          75|      43|     209|     0700|      5|             0718|        0705|          -13|       0|        0|               NULL|            NULL|          NULL|         NULL|               NULL|         NULL|\n",
      "+----+-----+---+-----------+-------+-------------+-----------+--------------+-------------------+-------------------+--------------+---------------+--------+----------+--------------+------------+--------+--------+---------+-------+-----------------+------------+-------------+--------+---------+-------------------+----------------+--------------+-------------+-------------------+-------------+\n",
      "only showing top 5 rows\n",
      "\n"
     ]
    }
   ],
   "source": [
    "airport_delays = data.filter((col(\"DESTINATION_AIRPORT\") == AIRPORT) & (col(\"CANCELLED\") == \"0\"))\n",
    "airport_delays.show(5)"
   ]
  },
  {
   "cell_type": "markdown",
   "metadata": {},
   "source": [
    "Ya tenemos los vuelos cuyo destino son el aeropuerto especificado. Ahora únicamente necesitamos obtener el promedio de la columna de delays solicitada. Esto lo podemos realizar utilizando la función `avg` importada anteriormente. Podemos mostrar el dato con la misma función `show`."
   ]
  },
  {
   "cell_type": "code",
   "execution_count": 9,
   "metadata": {},
   "outputs": [
    {
     "name": "stdout",
     "output_type": "stream",
     "text": [
      "+------------------+\n",
      "|avg(ARRIVAL_DELAY)|\n",
      "+------------------+\n",
      "| 6.699455162850623|\n",
      "+------------------+\n",
      "\n"
     ]
    }
   ],
   "source": [
    "# Retrasos promedio del aeropuerto especificado\n",
    "average_delay = airport_delays.select(avg(\"ARRIVAL_DELAY\"))\n",
    "average_delay.show()"
   ]
  },
  {
   "cell_type": "markdown",
   "metadata": {},
   "source": [
    "El siguiente ejercicio a realizar, y el último de este apartado, consiste en encontrar las 10 rutas de vuelo más populares (pares de aeropuertos) en términos de la cantidad de vuelos. Encontrar una cantidad de vuelos por rutas implica la necesidad de importar la función de agregación `count` para obtener la cuenta de los vuelos."
   ]
  },
  {
   "cell_type": "code",
   "execution_count": 10,
   "metadata": {},
   "outputs": [],
   "source": [
    "# Instrucción para importar la función de agregación count\n",
    "from pyspark.sql.functions import count"
   ]
  },
  {
   "cell_type": "markdown",
   "metadata": {},
   "source": [
    "Con esta función a nuestra disposición, podemos agrupar los datos por origen y destino utilizando la función `groupBy`, y posteriormente aplicar la función de agregación `count` para obtener la cuenta de vuelos dado un par de aeropuertos."
   ]
  },
  {
   "cell_type": "code",
   "execution_count": 11,
   "metadata": {},
   "outputs": [
    {
     "name": "stdout",
     "output_type": "stream",
     "text": [
      "+--------------+-------------------+-----------------+\n",
      "|ORIGIN_AIRPORT|DESTINATION_AIRPORT|NUMBER_OF_FLIGHTS|\n",
      "+--------------+-------------------+-----------------+\n",
      "|           BQN|                MCO|              441|\n",
      "|           PHL|                MCO|             4869|\n",
      "|           MCI|                IAH|             1698|\n",
      "|           SPI|                ORD|              998|\n",
      "|           SNA|                PHX|             3846|\n",
      "|           LBB|                DEN|              618|\n",
      "|           ORD|                PDX|             2149|\n",
      "|           EWR|                STT|              239|\n",
      "|           ATL|                GSP|             2470|\n",
      "|           MCI|                MKE|              612|\n",
      "+--------------+-------------------+-----------------+\n",
      "only showing top 10 rows\n",
      "\n"
     ]
    }
   ],
   "source": [
    "# Cuenta de rutas dado un par de aeropuertos\n",
    "route_counts = data.groupBy(\"ORIGIN_AIRPORT\", \"DESTINATION_AIRPORT\").agg(count(\"*\").alias(\"NUMBER_OF_FLIGHTS\"))\n",
    "route_counts.show(10)"
   ]
  },
  {
   "cell_type": "markdown",
   "metadata": {},
   "source": [
    "Finalmente, para obtener el top 10 seleccionado, únicamente necesitamos utilizar la función `orderBy` para obtener el dataset ordenado de mayor a menor. Finalmente podemos mostrar las 10 líneas más populares volviendo a utilizar la función `show` y pasando 10 como argumento."
   ]
  },
  {
   "cell_type": "code",
   "execution_count": 12,
   "metadata": {},
   "outputs": [
    {
     "name": "stdout",
     "output_type": "stream",
     "text": [
      "+--------------+-------------------+-----------------+\n",
      "|ORIGIN_AIRPORT|DESTINATION_AIRPORT|NUMBER_OF_FLIGHTS|\n",
      "+--------------+-------------------+-----------------+\n",
      "|           SFO|                LAX|            13744|\n",
      "|           LAX|                SFO|            13457|\n",
      "|           JFK|                LAX|            12016|\n",
      "|           LAX|                JFK|            12015|\n",
      "|           LAS|                LAX|             9715|\n",
      "|           LGA|                ORD|             9639|\n",
      "|           LAX|                LAS|             9594|\n",
      "|           ORD|                LGA|             9575|\n",
      "|           SFO|                JFK|             8440|\n",
      "|           JFK|                SFO|             8437|\n",
      "+--------------+-------------------+-----------------+\n",
      "only showing top 10 rows\n",
      "\n"
     ]
    }
   ],
   "source": [
    "# Top 10 líneas aéreas más populares por cantidad de vuelos\n",
    "popular_routes = route_counts.orderBy(col(\"NUMBER_OF_FLIGHTS\").desc())\n",
    "popular_routes.show(10)"
   ]
  }
 ],
 "metadata": {
  "kernelspec": {
   "display_name": "Python 3",
   "language": "python",
   "name": "python3"
  },
  "language_info": {
   "codemirror_mode": {
    "name": "ipython",
    "version": 3
   },
   "file_extension": ".py",
   "mimetype": "text/x-python",
   "name": "python",
   "nbconvert_exporter": "python",
   "pygments_lexer": "ipython3",
   "version": "3.11.5"
  }
 },
 "nbformat": 4,
 "nbformat_minor": 2
}
